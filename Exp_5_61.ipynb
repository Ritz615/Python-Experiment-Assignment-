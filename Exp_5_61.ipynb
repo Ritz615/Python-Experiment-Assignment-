{
  "cells": [
    {
      "cell_type": "markdown",
      "source": [
        "# EXPERIMENT NO: 05"
      ],
      "metadata": {
        "id": "VEF8sKhigQ1n"
      }
    },
    {
      "cell_type": "markdown",
      "metadata": {
        "id": "OBHqqZxCgKnf"
      },
      "source": [
        "NAME: Ritesh Gardare\n",
        "CLASS: SE3/S3/61"
      ]
    },
    {
      "cell_type": "code",
      "execution_count": null,
      "metadata": {
        "colab": {
          "base_uri": "https://localhost:8080/"
        },
        "id": "cx2qHCncgKng",
        "outputId": "f7af7f92-d983-4604-f0c0-93d765b39ace"
      },
      "outputs": [
        {
          "output_type": "stream",
          "name": "stdout",
          "text": [
            "Initial Stack\n",
            "['a', 'b', 'c']\n"
          ]
        }
      ],
      "source": [
        "stack = list ()\n",
        "\n",
        "# Append Operation\n",
        "stack.append ('a')\n",
        "stack.append ('b')\n",
        "stack.append ('c')\n",
        "print ('Initial Stack')\n",
        "print (stack)"
      ]
    },
    {
      "cell_type": "code",
      "execution_count": null,
      "metadata": {
        "colab": {
          "base_uri": "https://localhost:8080/"
        },
        "id": "AUWIYcsNgKnh",
        "outputId": "6fe4d441-c050-4946-c002-9f4e21a524de"
      },
      "outputs": [
        {
          "output_type": "stream",
          "name": "stdout",
          "text": [
            "c\n",
            "b\n",
            "a\n",
            "[]\n"
          ]
        }
      ],
      "source": [
        "\n",
        "# Pop Operation\n",
        "print (stack.pop ())\n",
        "print (stack.pop ())\n",
        "print (stack.pop ())\n",
        "print (stack)"
      ]
    },
    {
      "cell_type": "code",
      "execution_count": null,
      "metadata": {
        "colab": {
          "base_uri": "https://localhost:8080/"
        },
        "id": "pURaP-PIgKnh",
        "outputId": "91fa7d38-d62f-4a62-83b5-9c2bf708138d"
      },
      "outputs": [
        {
          "output_type": "stream",
          "name": "stdout",
          "text": [
            "3\n",
            "3\n",
            "3\n"
          ]
        }
      ],
      "source": [
        "def maxDepth(s: str) -> int:\n",
        "    depth = 0\n",
        "    max_depth = 0\n",
        "\n",
        "    for char in s:\n",
        "        if char == '(':\n",
        "            depth += 1\n",
        "            max_depth = max(depth, max_depth)\n",
        "        elif char == ')':\n",
        "            depth -= 1\n",
        "\n",
        "    return max_depth\n",
        "\n",
        "s1 = \"(1+(2*3)+((8)/4))+1\"\n",
        "s2 = \"(1)+((2))+(((3)))\"\n",
        "s3 = \"()(())((()()))\"\n",
        "\n",
        "print(maxDepth(s1))\n",
        "print(maxDepth(s2))\n",
        "print(maxDepth(s3))"
      ]
    }
  ],
  "metadata": {
    "kernelspec": {
      "display_name": "Python 3",
      "language": "python",
      "name": "python3"
    },
    "language_info": {
      "codemirror_mode": {
        "name": "ipython",
        "version": 3
      },
      "file_extension": ".py",
      "mimetype": "text/x-python",
      "name": "python",
      "nbconvert_exporter": "python",
      "pygments_lexer": "ipython3",
      "version": "3.11.8"
    },
    "colab": {
      "provenance": []
    }
  },
  "nbformat": 4,
  "nbformat_minor": 0
}